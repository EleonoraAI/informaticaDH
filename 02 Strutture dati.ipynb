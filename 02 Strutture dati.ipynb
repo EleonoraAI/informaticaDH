{
 "cells": [
  {
   "cell_type": "markdown",
   "id": "976ea41e",
   "metadata": {},
   "source": [
    "# Strutture Dati in Python\n",
    "\n",
    "Questo notebook fornisce esempi di strutture dati implementate in Python."
   ]
  },
  {
   "cell_type": "markdown",
   "id": "3de6cc4c",
   "metadata": {},
   "source": [
    "### Lista\n",
    "Una lista è una sequenza ordinata e modificabile di elementi. Gli elementi possono essere di qualsiasi tipo, e possono essere aggiunti, rimossi e modificati in vari modi."
   ]
  },
  {
   "cell_type": "code",
   "execution_count": 15,
   "id": "b2631477",
   "metadata": {},
   "outputs": [
    {
     "name": "stdout",
     "output_type": "stream",
     "text": [
      "Primo elemento: 1\n",
      "Lista dopo l'aggiunta: [1, 2, 3, 4, 5, 6]\n",
      "Lista dopo la rimozione: [1, 2, 4, 5, 6]\n"
     ]
    }
   ],
   "source": [
    "# Creazione di una lista\n",
    "lista = [1, 2, 3, 4, 5]\n",
    "# Accesso agli elementi della lista\n",
    "print(\"Primo elemento:\", lista[0])\n",
    "# Aggiunta di elementi alla lista\n",
    "lista.append(6)\n",
    "print(\"Lista dopo l'aggiunta:\", lista)\n",
    "# Rimozione di elementi dalla lista\n",
    "lista.remove(3)\n",
    "print(\"Lista dopo la rimozione:\", lista)"
   ]
  },
  {
   "cell_type": "markdown",
   "id": "b25eadd9",
   "metadata": {},
   "source": [
    "### Tuple\n",
    "Una tupla è una sequenza ordinata e immutabile di elementi. Le tuple sono simili alle liste, ma non possono essere modificate dopo la creazione."
   ]
  },
  {
   "cell_type": "code",
   "execution_count": 16,
   "id": "50f62745",
   "metadata": {},
   "outputs": [
    {
     "name": "stdout",
     "output_type": "stream",
     "text": [
      "Primo elemento: 1\n",
      "1\n",
      "2\n",
      "3\n",
      "4\n",
      "5\n"
     ]
    }
   ],
   "source": [
    "# Creazione di una tupla\n",
    "tupla = (1, 2, 3, 4, 5)\n",
    "\n",
    "# Accesso agli elementi della tupla\n",
    "print(\"Primo elemento:\", tupla[0])\n",
    "\n",
    "# Iterazione attraverso una tupla\n",
    "for elemento in tupla:\n",
    "    print(elemento)"
   ]
  },
  {
   "cell_type": "markdown",
   "id": "4416d54a",
   "metadata": {},
   "source": [
    "### Dizionari\n",
    "Un dizionario è una raccolta non ordinata di coppie chiave-valore. I valori vengono memorizzati e recuperati tramite le loro chiavi, piuttosto che tramite un indice numerico."
   ]
  },
  {
   "cell_type": "code",
   "execution_count": 17,
   "id": "f941df91",
   "metadata": {},
   "outputs": [
    {
     "name": "stdout",
     "output_type": "stream",
     "text": [
      "Nome: Mario\n",
      "Dizionario dopo l'aggiunta: {'nome': 'Mario', 'età': 30, 'città': 'Roma', 'sesso': 'Maschio'}\n",
      "Dizionario dopo la rimozione: {'nome': 'Mario', 'città': 'Roma', 'sesso': 'Maschio'}\n"
     ]
    }
   ],
   "source": [
    "# Creazione di un dizionario\n",
    "dizionario = {'nome': 'Mario', 'età': 30, 'città': 'Roma'}\n",
    "# Accesso ai valori tramite chiavi\n",
    "print(\"Nome:\", dizionario['nome'])\n",
    "# Aggiunta di nuove coppie chiave-valore\n",
    "dizionario['sesso'] = 'Maschio'\n",
    "print(\"Dizionario dopo l'aggiunta:\", dizionario)\n",
    "# Rimozione di una coppia chiave-valore\n",
    "del dizionario['età']\n",
    "print(\"Dizionario dopo la rimozione:\", dizionario)\n"
   ]
  },
  {
   "cell_type": "markdown",
   "id": "e3976d48",
   "metadata": {},
   "source": [
    "### Insiemi\n",
    " Un insieme è una raccolta non ordinata di elementi unici. Gli insiemi supportano operazioni come unione, intersezione, differenza e altro ancora."
   ]
  },
  {
   "cell_type": "code",
   "execution_count": 18,
   "id": "61d371e3",
   "metadata": {},
   "outputs": [
    {
     "name": "stdout",
     "output_type": "stream",
     "text": [
      "Insieme dopo l'aggiunta: {1, 2, 3, 4, 5, 6}\n",
      "Insieme dopo la rimozione: {1, 2, 4, 5, 6}\n"
     ]
    }
   ],
   "source": [
    "# Creazione di un insieme\n",
    "insieme = {1, 2, 3, 4, 5}\n",
    "\n",
    "# Aggiunta di elementi all'insieme\n",
    "insieme.add(6)\n",
    "print(\"Insieme dopo l'aggiunta:\", insieme)\n",
    "\n",
    "# Rimozione di elementi dall'insieme\n",
    "insieme.remove(3)\n",
    "print(\"Insieme dopo la rimozione:\", insieme)"
   ]
  },
  {
   "cell_type": "markdown",
   "id": "16ab5d8b",
   "metadata": {},
   "source": [
    "### Stringhe\n",
    "Una stringa è una sequenza di caratteri. In Python, le stringhe sono immutabili, il che significa che non possono essere modificate dopo la creazione."
   ]
  },
  {
   "cell_type": "code",
   "execution_count": 19,
   "id": "81947d4e",
   "metadata": {},
   "outputs": [
    {
     "name": "stdout",
     "output_type": "stream",
     "text": [
      "Primo carattere: H\n",
      "H\n",
      "e\n",
      "l\n",
      "l\n",
      "o\n",
      ",\n",
      " \n",
      "W\n",
      "o\n",
      "r\n",
      "l\n",
      "d\n",
      "!\n"
     ]
    }
   ],
   "source": [
    "# Creazione di una stringa\n",
    "stringa = \"Hello, World!\"\n",
    "\n",
    "# Accesso ai caratteri della stringa\n",
    "print(\"Primo carattere:\", stringa[0])\n",
    "\n",
    "# Iterazione attraverso una stringa\n",
    "for carattere in stringa:\n",
    "    print(carattere)"
   ]
  },
  {
   "cell_type": "markdown",
   "id": "5aef6631",
   "metadata": {},
   "source": [
    "### Code (Code FIFO)\n",
    "Una coda è una struttura dati che segue l'approccio \"First-In, First-Out\". Gli elementi vengono aggiunti alla fine della coda e rimossi dall'inizio."
   ]
  },
  {
   "cell_type": "code",
   "execution_count": 20,
   "id": "a93adbeb",
   "metadata": {},
   "outputs": [
    {
     "name": "stdout",
     "output_type": "stream",
     "text": [
      "Coda dopo l'aggiunta: deque([1, 2, 3, 4, 5, 6])\n",
      "Elemento rimosso: 1\n",
      "Coda dopo la rimozione: deque([2, 3, 4, 5, 6])\n"
     ]
    }
   ],
   "source": [
    "from collections import deque\n",
    "\n",
    "# Creazione di una coda\n",
    "coda = deque([1, 2, 3, 4, 5])\n",
    "\n",
    "# Aggiunta di elementi alla coda\n",
    "coda.append(6)\n",
    "print(\"Coda dopo l'aggiunta:\", coda)\n",
    "\n",
    "# Rimozione di elementi dalla coda\n",
    "elemento_rimosso = coda.popleft()\n",
    "print(\"Elemento rimosso:\", elemento_rimosso)\n",
    "print(\"Coda dopo la rimozione:\", coda)"
   ]
  },
  {
   "cell_type": "markdown",
   "id": "86315c42",
   "metadata": {},
   "source": [
    "### Stack (Pila LIFO)\n",
    "Uno stack è una struttura dati che segue l'approccio \"Last-In, First-Out\". Gli elementi vengono aggiunti e rimossi solo dalla cima dello stack."
   ]
  },
  {
   "cell_type": "code",
   "execution_count": 21,
   "id": "30a59f8a",
   "metadata": {},
   "outputs": [
    {
     "name": "stdout",
     "output_type": "stream",
     "text": [
      "Stack dopo l'aggiunta: [1, 2, 3]\n",
      "Elemento rimosso: 3\n",
      "Stack dopo la rimozione: [1, 2]\n"
     ]
    }
   ],
   "source": [
    "# Creazione di uno stack utilizzando una lista\n",
    "stack = []\n",
    "\n",
    "# Aggiunta di elementi allo stack\n",
    "stack.append(1)\n",
    "stack.append(2)\n",
    "stack.append(3)\n",
    "print(\"Stack dopo l'aggiunta:\", stack)\n",
    "\n",
    "# Rimozione di elementi dallo stack\n",
    "elemento_rimosso = stack.pop()\n",
    "print(\"Elemento rimosso:\", elemento_rimosso)\n",
    "print(\"Stack dopo la rimozione:\", stack)"
   ]
  },
  {
   "cell_type": "markdown",
   "id": "b2786a22",
   "metadata": {},
   "source": [
    "### Dizionari predefiniti (defaultdict, OrderedDict)\n",
    "Varianti specializzate dei dizionari standard che forniscono funzionalità aggiuntive, come la gestione di valori predefiniti o la memorizzazione dell'ordine di inserimento."
   ]
  },
  {
   "cell_type": "code",
   "execution_count": 22,
   "id": "ae5d1aca",
   "metadata": {},
   "outputs": [
    {
     "name": "stdout",
     "output_type": "stream",
     "text": [
      "Valore di 'a': 1\n",
      "Valore di 'c' (non esistente): 0\n"
     ]
    }
   ],
   "source": [
    "from collections import defaultdict\n",
    "\n",
    "# Creazione di un defaultdict con valore predefinito di tipo int (default value = 0)\n",
    "d = defaultdict(int)\n",
    "\n",
    "# Aggiunta di elementi al defaultdict\n",
    "d['a'] = 1\n",
    "d['b'] = 2\n",
    "\n",
    "# Accesso a una chiave esistente\n",
    "print(\"Valore di 'a':\", d['a'])  # Output: 1\n",
    "\n",
    "# Accesso a una chiave non esistente (ritorna il valore predefinito)\n",
    "print(\"Valore di 'c' (non esistente):\", d['c'])  # Output: 0"
   ]
  }
 ],
 "metadata": {
  "kernelspec": {
   "display_name": "Python 3",
   "language": "python",
   "name": "python3"
  },
  "language_info": {
   "codemirror_mode": {
    "name": "ipython",
    "version": 3
   },
   "file_extension": ".py",
   "mimetype": "text/x-python",
   "name": "python",
   "nbconvert_exporter": "python",
   "pygments_lexer": "ipython3",
   "version": "3.6.0"
  }
 },
 "nbformat": 4,
 "nbformat_minor": 5
}

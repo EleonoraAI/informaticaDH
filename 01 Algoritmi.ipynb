{
 "cells": [
  {
   "cell_type": "markdown",
   "id": "07c83d91",
   "metadata": {},
   "source": [
    "# Algoritmi in Python\n",
    "\n",
    "Questo notebook fornisce esempi di algoritmi implementati in Python.\n",
    "\n",
    "## Algoritmi\n",
    "\n",
    "### Bubble Sort\n",
    "Il Bubble Sort è un semplice algoritmo di ordinamento che opera confrontando gli elementi adiacenti e scambiandoli se sono nell'ordine sbagliato. Il processo continua ripetutamente finché non vengono eseguite passate senza scambi."
   ]
  },
  {
   "cell_type": "code",
   "execution_count": 1,
   "id": "99be8c92",
   "metadata": {},
   "outputs": [],
   "source": [
    "def bubble_sort(arr):\n",
    "    n = len(arr)\n",
    "    for i in range(n):\n",
    "        for j in range(0, n-i-1):\n",
    "            if arr[j] > arr[j+1]:\n",
    "                arr[j], arr[j+1] = arr[j+1], arr[j]\n",
    "    return arr"
   ]
  },
  {
   "cell_type": "markdown",
   "id": "934ad3c0",
   "metadata": {},
   "source": [
    "Esempio di utilizzo:"
   ]
  },
  {
   "cell_type": "code",
   "execution_count": 2,
   "id": "d7ed173e",
   "metadata": {},
   "outputs": [
    {
     "name": "stdout",
     "output_type": "stream",
     "text": [
      "Array originale: [64, 34, 25, 12, 22, 11, 90]\n",
      "Array ordinato: [11, 12, 22, 25, 34, 64, 90]\n"
     ]
    }
   ],
   "source": [
    "arr = [64, 34, 25, 12, 22, 11, 90]\n",
    "print(\"Array originale:\", arr)\n",
    "print(\"Array ordinato:\", bubble_sort(arr))"
   ]
  },
  {
   "cell_type": "markdown",
   "id": "8ee63966",
   "metadata": {},
   "source": [
    "### Ricerca Binaria\n",
    "La ricerca binaria è un algoritmo efficiente per trovare un elemento in un elenco ordinato. Funziona riducendo continuamente l'intervallo di ricerca confrontando l'elemento medio dell'elenco con l'elemento di destinazione e decidendo in quale metà continuare la ricerca."
   ]
  },
  {
   "cell_type": "code",
   "execution_count": 3,
   "id": "db9921fc",
   "metadata": {},
   "outputs": [],
   "source": [
    "def binary_search(arr, x):\n",
    "    low = 0\n",
    "    high = len(arr) - 1\n",
    "    while low <= high:\n",
    "        mid = (low + high) // 2\n",
    "        if arr[mid] < x:\n",
    "            low = mid + 1\n",
    "        elif arr[mid] > x:\n",
    "            high = mid - 1\n",
    "        else:\n",
    "            return mid\n",
    "    return -1"
   ]
  },
  {
   "cell_type": "markdown",
   "id": "d48227c7",
   "metadata": {},
   "source": [
    "Esempio di utilizzo:"
   ]
  },
  {
   "cell_type": "code",
   "execution_count": 4,
   "id": "8c6da010",
   "metadata": {},
   "outputs": [
    {
     "name": "stdout",
     "output_type": "stream",
     "text": [
      "Elemento trovato all'indice 3\n"
     ]
    }
   ],
   "source": [
    "arr = [2, 3, 4, 10, 40]\n",
    "x = 10\n",
    "result = binary_search(arr, x)\n",
    "if result != -1:\n",
    "    print(\"Elemento trovato all'indice\", result)\n",
    "else:\n",
    "    print(\"Elemento non trovato\")"
   ]
  },
  {
   "cell_type": "markdown",
   "id": "8c377e42",
   "metadata": {},
   "source": [
    "### QuickSort\n",
    "L'algoritmo QuickSort è un efficiente algoritmo di ordinamento che utilizza la tecnica della \"divide et impera\" per ordinare una lista di elementi. Questo significa che l'algoritmo suddivide ricorsivamente la lista in sotto-liste più piccole, le ordina separatamente e quindi combina le sotto-liste ordinate per ottenere la lista finale ordinata."
   ]
  },
  {
   "cell_type": "code",
   "execution_count": 5,
   "id": "d6cb0054",
   "metadata": {},
   "outputs": [
    {
     "name": "stdout",
     "output_type": "stream",
     "text": [
      "Array originale: [3, 6, 8, 10, 1, 2, 1]\n",
      "Array ordinato: [1, 1, 2, 3, 6, 8, 10]\n"
     ]
    }
   ],
   "source": [
    "def quicksort(arr):\n",
    "    if len(arr) <= 1:\n",
    "        return arr\n",
    "    pivot = arr[len(arr) // 2]\n",
    "    left = [x for x in arr if x < pivot]\n",
    "    middle = [x for x in arr if x == pivot]\n",
    "    right = [x for x in arr if x > pivot]\n",
    "    return quicksort(left) + middle + quicksort(right)\n",
    "\n",
    "# Esempio di utilizzo:\n",
    "arr = [3, 6, 8, 10, 1, 2, 1]\n",
    "print(\"Array originale:\", arr)\n",
    "print(\"Array ordinato:\", quicksort(arr))\n"
   ]
  },
  {
   "cell_type": "markdown",
   "id": "e83f8961",
   "metadata": {},
   "source": [
    "### Depth-First Search (DFS)\n",
    "DFS, è un algoritmo utilizzato per attraversare o cercare all'interno di una struttura dati come un grafo o un albero. L'algoritmo esplora un ramo fino a che non raggiunge il livello più profondo possibile prima di tornare indietro e continuare l'esplorazione degli altri rami. DFS è utilizzato in una varietà di applicazioni, tra cui la ricerca di cammini, la verifica della connettività di un grafo, il rilevamento di cicli in un grafo, la risoluzione di labirinti e molto altro ancora. È uno degli algoritmi fondamentali nell'ambito della teoria dei grafi e trova ampio impiego in informatica, intelligenza artificiale, sistemi di navigazione e molti altri campi."
   ]
  },
  {
   "cell_type": "code",
   "execution_count": 6,
   "id": "5da479c7",
   "metadata": {},
   "outputs": [
    {
     "name": "stdout",
     "output_type": "stream",
     "text": [
      "Visita DFS del grafo a partire da A:\n",
      "A B D E F C C "
     ]
    },
    {
     "data": {
      "text/plain": [
       "{'A', 'B', 'C', 'D', 'E', 'F'}"
      ]
     },
     "execution_count": 6,
     "metadata": {},
     "output_type": "execute_result"
    }
   ],
   "source": [
    "def dfs(graph, start, visited=None):\n",
    "    if visited is None:\n",
    "        visited = set()\n",
    "    visited.add(start)\n",
    "    print(start, end=' ')\n",
    "    for next_node in graph[start] - visited:\n",
    "        dfs(graph, next_node, visited)\n",
    "    return visited\n",
    "\n",
    "# Esempio di utilizzo:\n",
    "graph = {'A': {'B', 'C'},\n",
    "         'B': {'A', 'D', 'E'},\n",
    "         'C': {'A', 'F'},\n",
    "         'D': {'B'},\n",
    "         'E': {'B', 'F'},\n",
    "         'F': {'C', 'E'}}\n",
    "print(\"Visita DFS del grafo a partire da A:\")\n",
    "dfs(graph, 'A')"
   ]
  }
 ],
 "metadata": {
  "kernelspec": {
   "display_name": "Python 3",
   "language": "python",
   "name": "python3"
  },
  "language_info": {
   "codemirror_mode": {
    "name": "ipython",
    "version": 3
   },
   "file_extension": ".py",
   "mimetype": "text/x-python",
   "name": "python",
   "nbconvert_exporter": "python",
   "pygments_lexer": "ipython3",
   "version": "3.6.0"
  }
 },
 "nbformat": 4,
 "nbformat_minor": 5
}
